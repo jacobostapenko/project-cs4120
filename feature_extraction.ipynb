{
 "cells": [
  {
   "cell_type": "code",
   "execution_count": 86,
   "id": "initial_id",
   "metadata": {
    "ExecuteTime": {
     "end_time": "2024-03-31T19:18:23.168811Z",
     "start_time": "2024-03-31T19:18:21.720692Z"
    }
   },
   "outputs": [],
   "source": [
    "import pandas\n",
    "from gensim.models import Doc2Vec\n",
    "from gensim.models.doc2vec import TaggedDocument\n",
    "from tqdm import tqdm\n",
    "import numpy as np\n",
    "from sklearn.preprocessing import OneHotEncoder\n",
    "from sklearn.feature_extraction.text import TfidfVectorizer\n",
    "import scipy as sp\n",
    "import pickle"
   ]
  },
  {
   "cell_type": "code",
   "execution_count": 5,
   "id": "39785d28fd982b2b",
   "metadata": {
    "ExecuteTime": {
     "end_time": "2024-03-31T19:18:33.314016Z",
     "start_time": "2024-03-31T19:18:23.170969Z"
    },
    "collapsed": false
   },
   "outputs": [],
   "source": [
    "# Load the data pickle\n",
    "df = pandas.read_pickle('cleaned_articles.pkl')"
   ]
  },
  {
   "cell_type": "code",
   "execution_count": 6,
   "id": "89d0bace00d57f8d",
   "metadata": {
    "ExecuteTime": {
     "end_time": "2024-03-31T19:18:37.003024Z",
     "start_time": "2024-03-31T19:18:33.315542Z"
    },
    "collapsed": false
   },
   "outputs": [
    {
     "name": "stdout",
     "output_type": "stream",
     "text": [
      "126693\r"
     ]
    }
   ],
   "source": [
    "# Prepare the data for Doc2Vec\n",
    "documents = [TaggedDocument(doc, [i]) for i, doc in enumerate(df['tokens'])]\n",
    "\n",
    "# Train a Doc2Vec model\n",
    "model = Doc2Vec(documents, vector_size=100, window=5, min_count=1, workers=24)\n",
    "\n",
    "# Define a function to vectorize a document\n",
    "def vectorize_doc(row):\n",
    "    print(f'{row.name}\\r', end='')\n",
    "    doc = row['tokens']\n",
    "    return model.infer_vector(doc)\n",
    "\n",
    "# Apply the function to each row in the DataFrame\n",
    "df['doc2vec'] = df.apply(vectorize_doc, axis=1)"
   ]
  },
  {
   "cell_type": "code",
   "execution_count": 99,
   "id": "8e630b92-ec7c-4e36-b136-050d2a9e78f2",
   "metadata": {},
   "outputs": [],
   "source": [
    "# Encode the authors and publications with onehot encoding\n",
    "\n",
    "publication_encoder = OneHotEncoder()\n",
    "publications = publication_encoder.fit_transform(df['publication'].values.reshape(-1,1))\n",
    "with open('publication_encoder.pkl', 'wb') as f:\n",
    "    pickle.dump(publication_encoder, f)\n",
    "\n",
    "author_encoder = OneHotEncoder()\n",
    "authors = author_encoder.fit_transform(df['author'].values.reshape(-1,1))\n",
    "with open('author_encoder.pkl', 'wb') as f:\n",
    "    pickle.dump(author_encoder, f)"
   ]
  },
  {
   "cell_type": "code",
   "execution_count": 100,
   "id": "a53d3131-9734-464c-8893-1332e843eef5",
   "metadata": {},
   "outputs": [],
   "source": [
    "# Vectorize the documents using TFIDF\n",
    "df['joined_tokens'] = df['tokens'].apply(lambda x: ' '.join(x))\n",
    "\n",
    "# Output a tfidf numpy matrix where each row is a document and each column is a word\n",
    "vectorizer = TfidfVectorizer(max_df=0.5, min_df=2, ngram_range=(1,1))\n",
    "X = vectorizer.fit_transform(df['joined_tokens'])"
   ]
  },
  {
   "cell_type": "code",
   "execution_count": 101,
   "id": "3283259f-9f75-42d5-bd31-1dee89fe0e20",
   "metadata": {},
   "outputs": [],
   "source": [
    "# Save all the features to binarized numpy files\n",
    "with open('doc2vec.npy', 'wb') as f:\n",
    "    array = np.stack(df['doc2vec'].values)\n",
    "    np.save(f, array)\n",
    "\n",
    "sp.sparse.save_npz('publications.npz', publications)\n",
    "\n",
    "sp.sparse.save_npz('authors.npz', authors)\n",
    "\n",
    "sp.sparse.save_npz('tfidf.npz', X)"
   ]
  }
 ],
 "metadata": {
  "kernelspec": {
   "display_name": "Python 3 (ipykernel)",
   "language": "python",
   "name": "python3"
  },
  "language_info": {
   "codemirror_mode": {
    "name": "ipython",
    "version": 3
   },
   "file_extension": ".py",
   "mimetype": "text/x-python",
   "name": "python",
   "nbconvert_exporter": "python",
   "pygments_lexer": "ipython3",
   "version": "3.12.1"
  }
 },
 "nbformat": 4,
 "nbformat_minor": 5
}
